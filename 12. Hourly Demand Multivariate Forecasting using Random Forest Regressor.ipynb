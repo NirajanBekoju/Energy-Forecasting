{
 "cells": [
  {
   "cell_type": "code",
   "execution_count": 3,
   "metadata": {
    "colab": {
     "base_uri": "https://localhost:8080/"
    },
    "executionInfo": {
     "elapsed": 34868,
     "status": "ok",
     "timestamp": 1705554588379,
     "user": {
      "displayName": "NIRAJAN BEKOJU",
      "userId": "11594644661999833156"
     },
     "user_tz": -345
    },
    "id": "lEPem_TZI_Nb",
    "outputId": "0c26463a-a0cb-4999-8892-c50cd665ed4e"
   },
   "outputs": [],
   "source": [
    "# from google.colab import drive\n",
    "# drive.mount('/content/drive')"
   ]
  },
  {
   "cell_type": "code",
   "execution_count": 1,
   "metadata": {
    "executionInfo": {
     "elapsed": 4461,
     "status": "ok",
     "timestamp": 1705554592833,
     "user": {
      "displayName": "NIRAJAN BEKOJU",
      "userId": "11594644661999833156"
     },
     "user_tz": -345
    },
    "id": "kyWfpdstZJZn"
   },
   "outputs": [],
   "source": [
    "# finalize model and make a prediction for monthly births with random forest\n",
    "import numpy as np\n",
    "import pandas as pd\n",
    "import seaborn as sns\n",
    "import matplotlib.pyplot as plt\n",
    "import plotly.express as px\n",
    "\n",
    "from numpy import asarray\n",
    "from numpy import array\n",
    "from pandas import concat\n",
    "from sklearn.ensemble import RandomForestRegressor\n",
    "import joblib\n",
    "\n",
    "from sklearn.metrics import mean_squared_error, mean_absolute_percentage_error, mean_absolute_error"
   ]
  },
  {
   "cell_type": "code",
   "execution_count": 2,
   "metadata": {
    "colab": {
     "base_uri": "https://localhost:8080/"
    },
    "executionInfo": {
     "elapsed": 408,
     "status": "ok",
     "timestamp": 1705554674455,
     "user": {
      "displayName": "NIRAJAN BEKOJU",
      "userId": "11594644661999833156"
     },
     "user_tz": -345
    },
    "id": "qxULR4dmZiB2",
    "outputId": "0524c5fa-a837-4cad-df00-5053e9f6f0eb"
   },
   "outputs": [
    {
     "name": "stdout",
     "output_type": "stream",
     "text": [
      "<class 'pandas.core.frame.DataFrame'>\n",
      "RangeIndex: 27552 entries, 0 to 27551\n",
      "Data columns (total 28 columns):\n",
      " #   Column                          Non-Null Count  Dtype  \n",
      "---  ------                          --------------  -----  \n",
      " 0   Unnamed: 0                      27552 non-null  int64  \n",
      " 1   datetime                        27552 non-null  object \n",
      " 2   Demand (MW)                     27552 non-null  float64\n",
      " 3   Temperature                     27552 non-null  float64\n",
      " 4   dewpoint                        27552 non-null  float64\n",
      " 5   humidity                        27552 non-null  float64\n",
      " 6   precipitation                   27552 non-null  float64\n",
      " 7   precipprob                      27552 non-null  float64\n",
      " 8   snow                            27552 non-null  float64\n",
      " 9   snowdepth                       27552 non-null  float64\n",
      " 10  windgust                        27552 non-null  float64\n",
      " 11  windspeed                       27552 non-null  float64\n",
      " 12  sealevelpressure                27552 non-null  float64\n",
      " 13  cloudcover                      27552 non-null  float64\n",
      " 14  visibility                      27552 non-null  float64\n",
      " 15  solarradiation                  27552 non-null  float64\n",
      " 16  severerisk                      27552 non-null  float64\n",
      " 17  freezingrain                    27552 non-null  int64  \n",
      " 18  ice                             27552 non-null  int64  \n",
      " 19  rain                            27552 non-null  int64  \n",
      " 20  snow.1                          27552 non-null  int64  \n",
      " 21  Clear                           27552 non-null  int64  \n",
      " 22  Freezing Drizzle/Freezing Rain  27552 non-null  int64  \n",
      " 23  Ice                             27552 non-null  int64  \n",
      " 24  Overcast                        27552 non-null  int64  \n",
      " 25  Partially cloudy                27552 non-null  int64  \n",
      " 26  Rain                            27552 non-null  int64  \n",
      " 27  Snow                            27552 non-null  int64  \n",
      "dtypes: float64(15), int64(12), object(1)\n",
      "memory usage: 5.9+ MB\n"
     ]
    }
   ],
   "source": [
    "# data_path = \"/content/drive/MyDrive/Colab Notebooks/Hitachi/Data/final_data.csv\"\n",
    "data_path = \"final_data.csv\"\n",
    "data_df = pd.read_csv(data_path)\n",
    "data_df.info()"
   ]
  },
  {
   "cell_type": "code",
   "execution_count": 3,
   "metadata": {
    "colab": {
     "base_uri": "https://localhost:8080/",
     "height": 340
    },
    "executionInfo": {
     "elapsed": 40,
     "status": "ok",
     "timestamp": 1705554698515,
     "user": {
      "displayName": "NIRAJAN BEKOJU",
      "userId": "11594644661999833156"
     },
     "user_tz": -345
    },
    "id": "V-Op-XtVIu0e",
    "outputId": "352e1a6c-d0fa-43b1-fe52-462f092a5bfc"
   },
   "outputs": [
    {
     "data": {
      "text/html": [
       "<div>\n",
       "<style scoped>\n",
       "    .dataframe tbody tr th:only-of-type {\n",
       "        vertical-align: middle;\n",
       "    }\n",
       "\n",
       "    .dataframe tbody tr th {\n",
       "        vertical-align: top;\n",
       "    }\n",
       "\n",
       "    .dataframe thead th {\n",
       "        text-align: right;\n",
       "    }\n",
       "</style>\n",
       "<table border=\"1\" class=\"dataframe\">\n",
       "  <thead>\n",
       "    <tr style=\"text-align: right;\">\n",
       "      <th></th>\n",
       "      <th>Unnamed: 0</th>\n",
       "      <th>datetime</th>\n",
       "      <th>Demand (MW)</th>\n",
       "      <th>Temperature</th>\n",
       "      <th>dewpoint</th>\n",
       "      <th>humidity</th>\n",
       "      <th>precipitation</th>\n",
       "      <th>precipprob</th>\n",
       "      <th>snow</th>\n",
       "      <th>snowdepth</th>\n",
       "      <th>...</th>\n",
       "      <th>ice</th>\n",
       "      <th>rain</th>\n",
       "      <th>snow.1</th>\n",
       "      <th>Clear</th>\n",
       "      <th>Freezing Drizzle/Freezing Rain</th>\n",
       "      <th>Ice</th>\n",
       "      <th>Overcast</th>\n",
       "      <th>Partially cloudy</th>\n",
       "      <th>Rain</th>\n",
       "      <th>Snow</th>\n",
       "    </tr>\n",
       "  </thead>\n",
       "  <tbody>\n",
       "    <tr>\n",
       "      <th>0</th>\n",
       "      <td>0</td>\n",
       "      <td>2020-01-01 00:00:00</td>\n",
       "      <td>445.8</td>\n",
       "      <td>38.0</td>\n",
       "      <td>29.0</td>\n",
       "      <td>69.76</td>\n",
       "      <td>0.0</td>\n",
       "      <td>0.0</td>\n",
       "      <td>0.0</td>\n",
       "      <td>0.0</td>\n",
       "      <td>...</td>\n",
       "      <td>0</td>\n",
       "      <td>0</td>\n",
       "      <td>0</td>\n",
       "      <td>0</td>\n",
       "      <td>0</td>\n",
       "      <td>0</td>\n",
       "      <td>1</td>\n",
       "      <td>0</td>\n",
       "      <td>0</td>\n",
       "      <td>0</td>\n",
       "    </tr>\n",
       "    <tr>\n",
       "      <th>1</th>\n",
       "      <td>1</td>\n",
       "      <td>2020-01-01 01:00:00</td>\n",
       "      <td>424.5</td>\n",
       "      <td>38.0</td>\n",
       "      <td>29.9</td>\n",
       "      <td>72.37</td>\n",
       "      <td>0.0</td>\n",
       "      <td>0.0</td>\n",
       "      <td>0.0</td>\n",
       "      <td>0.0</td>\n",
       "      <td>...</td>\n",
       "      <td>0</td>\n",
       "      <td>0</td>\n",
       "      <td>0</td>\n",
       "      <td>0</td>\n",
       "      <td>0</td>\n",
       "      <td>0</td>\n",
       "      <td>1</td>\n",
       "      <td>0</td>\n",
       "      <td>0</td>\n",
       "      <td>0</td>\n",
       "    </tr>\n",
       "    <tr>\n",
       "      <th>2</th>\n",
       "      <td>2</td>\n",
       "      <td>2020-01-01 02:00:00</td>\n",
       "      <td>423.5</td>\n",
       "      <td>38.0</td>\n",
       "      <td>30.8</td>\n",
       "      <td>75.06</td>\n",
       "      <td>0.0</td>\n",
       "      <td>0.0</td>\n",
       "      <td>0.0</td>\n",
       "      <td>0.0</td>\n",
       "      <td>...</td>\n",
       "      <td>0</td>\n",
       "      <td>0</td>\n",
       "      <td>0</td>\n",
       "      <td>0</td>\n",
       "      <td>0</td>\n",
       "      <td>0</td>\n",
       "      <td>1</td>\n",
       "      <td>0</td>\n",
       "      <td>0</td>\n",
       "      <td>0</td>\n",
       "    </tr>\n",
       "    <tr>\n",
       "      <th>3</th>\n",
       "      <td>3</td>\n",
       "      <td>2020-01-01 03:00:00</td>\n",
       "      <td>418.8</td>\n",
       "      <td>37.1</td>\n",
       "      <td>29.9</td>\n",
       "      <td>74.97</td>\n",
       "      <td>0.0</td>\n",
       "      <td>0.0</td>\n",
       "      <td>0.0</td>\n",
       "      <td>0.0</td>\n",
       "      <td>...</td>\n",
       "      <td>0</td>\n",
       "      <td>0</td>\n",
       "      <td>0</td>\n",
       "      <td>0</td>\n",
       "      <td>0</td>\n",
       "      <td>0</td>\n",
       "      <td>0</td>\n",
       "      <td>1</td>\n",
       "      <td>0</td>\n",
       "      <td>0</td>\n",
       "    </tr>\n",
       "    <tr>\n",
       "      <th>4</th>\n",
       "      <td>4</td>\n",
       "      <td>2020-01-01 04:00:00</td>\n",
       "      <td>414.8</td>\n",
       "      <td>35.1</td>\n",
       "      <td>29.0</td>\n",
       "      <td>78.41</td>\n",
       "      <td>0.0</td>\n",
       "      <td>0.0</td>\n",
       "      <td>0.0</td>\n",
       "      <td>0.0</td>\n",
       "      <td>...</td>\n",
       "      <td>0</td>\n",
       "      <td>0</td>\n",
       "      <td>0</td>\n",
       "      <td>1</td>\n",
       "      <td>0</td>\n",
       "      <td>0</td>\n",
       "      <td>0</td>\n",
       "      <td>0</td>\n",
       "      <td>0</td>\n",
       "      <td>0</td>\n",
       "    </tr>\n",
       "  </tbody>\n",
       "</table>\n",
       "<p>5 rows × 28 columns</p>\n",
       "</div>"
      ],
      "text/plain": [
       "   Unnamed: 0             datetime  Demand (MW)  Temperature  dewpoint  \\\n",
       "0           0  2020-01-01 00:00:00        445.8         38.0      29.0   \n",
       "1           1  2020-01-01 01:00:00        424.5         38.0      29.9   \n",
       "2           2  2020-01-01 02:00:00        423.5         38.0      30.8   \n",
       "3           3  2020-01-01 03:00:00        418.8         37.1      29.9   \n",
       "4           4  2020-01-01 04:00:00        414.8         35.1      29.0   \n",
       "\n",
       "   humidity  precipitation  precipprob  snow  snowdepth  ...  ice  rain  \\\n",
       "0     69.76            0.0         0.0   0.0        0.0  ...    0     0   \n",
       "1     72.37            0.0         0.0   0.0        0.0  ...    0     0   \n",
       "2     75.06            0.0         0.0   0.0        0.0  ...    0     0   \n",
       "3     74.97            0.0         0.0   0.0        0.0  ...    0     0   \n",
       "4     78.41            0.0         0.0   0.0        0.0  ...    0     0   \n",
       "\n",
       "   snow.1  Clear  Freezing Drizzle/Freezing Rain  Ice  Overcast  \\\n",
       "0       0      0                               0    0         1   \n",
       "1       0      0                               0    0         1   \n",
       "2       0      0                               0    0         1   \n",
       "3       0      0                               0    0         0   \n",
       "4       0      1                               0    0         0   \n",
       "\n",
       "   Partially cloudy  Rain  Snow  \n",
       "0                 0     0     0  \n",
       "1                 0     0     0  \n",
       "2                 0     0     0  \n",
       "3                 1     0     0  \n",
       "4                 0     0     0  \n",
       "\n",
       "[5 rows x 28 columns]"
      ]
     },
     "execution_count": 3,
     "metadata": {},
     "output_type": "execute_result"
    }
   ],
   "source": [
    "data_df.head()"
   ]
  },
  {
   "cell_type": "code",
   "execution_count": 4,
   "metadata": {
    "executionInfo": {
     "elapsed": 4,
     "status": "ok",
     "timestamp": 1705555084415,
     "user": {
      "displayName": "NIRAJAN BEKOJU",
      "userId": "11594644661999833156"
     },
     "user_tz": -345
    },
    "id": "OZf1QXQyIu04"
   },
   "outputs": [],
   "source": [
    "data_df['datetime'] = pd.to_datetime(data_df['datetime'])\n",
    "\n",
    "# Extract date and time components\n",
    "data_df['date'] = data_df['datetime'].dt.date\n",
    "data_df['time'] = data_df['datetime'].dt.time"
   ]
  },
  {
   "cell_type": "code",
   "execution_count": 5,
   "metadata": {
    "colab": {
     "base_uri": "https://localhost:8080/",
     "height": 357
    },
    "executionInfo": {
     "elapsed": 20,
     "status": "ok",
     "timestamp": 1705555096021,
     "user": {
      "displayName": "NIRAJAN BEKOJU",
      "userId": "11594644661999833156"
     },
     "user_tz": -345
    },
    "id": "jwT90ARnIu04",
    "outputId": "092df84d-4dad-4cf2-c068-6b492c8ff430"
   },
   "outputs": [
    {
     "data": {
      "text/html": [
       "<div>\n",
       "<style scoped>\n",
       "    .dataframe tbody tr th:only-of-type {\n",
       "        vertical-align: middle;\n",
       "    }\n",
       "\n",
       "    .dataframe tbody tr th {\n",
       "        vertical-align: top;\n",
       "    }\n",
       "\n",
       "    .dataframe thead th {\n",
       "        text-align: right;\n",
       "    }\n",
       "</style>\n",
       "<table border=\"1\" class=\"dataframe\">\n",
       "  <thead>\n",
       "    <tr style=\"text-align: right;\">\n",
       "      <th></th>\n",
       "      <th>Unnamed: 0</th>\n",
       "      <th>datetime</th>\n",
       "      <th>Demand (MW)</th>\n",
       "      <th>Temperature</th>\n",
       "      <th>dewpoint</th>\n",
       "      <th>humidity</th>\n",
       "      <th>precipitation</th>\n",
       "      <th>precipprob</th>\n",
       "      <th>snow</th>\n",
       "      <th>snowdepth</th>\n",
       "      <th>...</th>\n",
       "      <th>snow.1</th>\n",
       "      <th>Clear</th>\n",
       "      <th>Freezing Drizzle/Freezing Rain</th>\n",
       "      <th>Ice</th>\n",
       "      <th>Overcast</th>\n",
       "      <th>Partially cloudy</th>\n",
       "      <th>Rain</th>\n",
       "      <th>Snow</th>\n",
       "      <th>date</th>\n",
       "      <th>time</th>\n",
       "    </tr>\n",
       "  </thead>\n",
       "  <tbody>\n",
       "    <tr>\n",
       "      <th>0</th>\n",
       "      <td>0</td>\n",
       "      <td>2020-01-01 00:00:00</td>\n",
       "      <td>445.8</td>\n",
       "      <td>38.0</td>\n",
       "      <td>29.0</td>\n",
       "      <td>69.76</td>\n",
       "      <td>0.0</td>\n",
       "      <td>0.0</td>\n",
       "      <td>0.0</td>\n",
       "      <td>0.0</td>\n",
       "      <td>...</td>\n",
       "      <td>0</td>\n",
       "      <td>0</td>\n",
       "      <td>0</td>\n",
       "      <td>0</td>\n",
       "      <td>1</td>\n",
       "      <td>0</td>\n",
       "      <td>0</td>\n",
       "      <td>0</td>\n",
       "      <td>2020-01-01</td>\n",
       "      <td>00:00:00</td>\n",
       "    </tr>\n",
       "    <tr>\n",
       "      <th>1</th>\n",
       "      <td>1</td>\n",
       "      <td>2020-01-01 01:00:00</td>\n",
       "      <td>424.5</td>\n",
       "      <td>38.0</td>\n",
       "      <td>29.9</td>\n",
       "      <td>72.37</td>\n",
       "      <td>0.0</td>\n",
       "      <td>0.0</td>\n",
       "      <td>0.0</td>\n",
       "      <td>0.0</td>\n",
       "      <td>...</td>\n",
       "      <td>0</td>\n",
       "      <td>0</td>\n",
       "      <td>0</td>\n",
       "      <td>0</td>\n",
       "      <td>1</td>\n",
       "      <td>0</td>\n",
       "      <td>0</td>\n",
       "      <td>0</td>\n",
       "      <td>2020-01-01</td>\n",
       "      <td>01:00:00</td>\n",
       "    </tr>\n",
       "    <tr>\n",
       "      <th>2</th>\n",
       "      <td>2</td>\n",
       "      <td>2020-01-01 02:00:00</td>\n",
       "      <td>423.5</td>\n",
       "      <td>38.0</td>\n",
       "      <td>30.8</td>\n",
       "      <td>75.06</td>\n",
       "      <td>0.0</td>\n",
       "      <td>0.0</td>\n",
       "      <td>0.0</td>\n",
       "      <td>0.0</td>\n",
       "      <td>...</td>\n",
       "      <td>0</td>\n",
       "      <td>0</td>\n",
       "      <td>0</td>\n",
       "      <td>0</td>\n",
       "      <td>1</td>\n",
       "      <td>0</td>\n",
       "      <td>0</td>\n",
       "      <td>0</td>\n",
       "      <td>2020-01-01</td>\n",
       "      <td>02:00:00</td>\n",
       "    </tr>\n",
       "    <tr>\n",
       "      <th>3</th>\n",
       "      <td>3</td>\n",
       "      <td>2020-01-01 03:00:00</td>\n",
       "      <td>418.8</td>\n",
       "      <td>37.1</td>\n",
       "      <td>29.9</td>\n",
       "      <td>74.97</td>\n",
       "      <td>0.0</td>\n",
       "      <td>0.0</td>\n",
       "      <td>0.0</td>\n",
       "      <td>0.0</td>\n",
       "      <td>...</td>\n",
       "      <td>0</td>\n",
       "      <td>0</td>\n",
       "      <td>0</td>\n",
       "      <td>0</td>\n",
       "      <td>0</td>\n",
       "      <td>1</td>\n",
       "      <td>0</td>\n",
       "      <td>0</td>\n",
       "      <td>2020-01-01</td>\n",
       "      <td>03:00:00</td>\n",
       "    </tr>\n",
       "    <tr>\n",
       "      <th>4</th>\n",
       "      <td>4</td>\n",
       "      <td>2020-01-01 04:00:00</td>\n",
       "      <td>414.8</td>\n",
       "      <td>35.1</td>\n",
       "      <td>29.0</td>\n",
       "      <td>78.41</td>\n",
       "      <td>0.0</td>\n",
       "      <td>0.0</td>\n",
       "      <td>0.0</td>\n",
       "      <td>0.0</td>\n",
       "      <td>...</td>\n",
       "      <td>0</td>\n",
       "      <td>1</td>\n",
       "      <td>0</td>\n",
       "      <td>0</td>\n",
       "      <td>0</td>\n",
       "      <td>0</td>\n",
       "      <td>0</td>\n",
       "      <td>0</td>\n",
       "      <td>2020-01-01</td>\n",
       "      <td>04:00:00</td>\n",
       "    </tr>\n",
       "  </tbody>\n",
       "</table>\n",
       "<p>5 rows × 30 columns</p>\n",
       "</div>"
      ],
      "text/plain": [
       "   Unnamed: 0            datetime  Demand (MW)  Temperature  dewpoint  \\\n",
       "0           0 2020-01-01 00:00:00        445.8         38.0      29.0   \n",
       "1           1 2020-01-01 01:00:00        424.5         38.0      29.9   \n",
       "2           2 2020-01-01 02:00:00        423.5         38.0      30.8   \n",
       "3           3 2020-01-01 03:00:00        418.8         37.1      29.9   \n",
       "4           4 2020-01-01 04:00:00        414.8         35.1      29.0   \n",
       "\n",
       "   humidity  precipitation  precipprob  snow  snowdepth  ...  snow.1  Clear  \\\n",
       "0     69.76            0.0         0.0   0.0        0.0  ...       0      0   \n",
       "1     72.37            0.0         0.0   0.0        0.0  ...       0      0   \n",
       "2     75.06            0.0         0.0   0.0        0.0  ...       0      0   \n",
       "3     74.97            0.0         0.0   0.0        0.0  ...       0      0   \n",
       "4     78.41            0.0         0.0   0.0        0.0  ...       0      1   \n",
       "\n",
       "   Freezing Drizzle/Freezing Rain  Ice  Overcast  Partially cloudy  Rain  \\\n",
       "0                               0    0         1                 0     0   \n",
       "1                               0    0         1                 0     0   \n",
       "2                               0    0         1                 0     0   \n",
       "3                               0    0         0                 1     0   \n",
       "4                               0    0         0                 0     0   \n",
       "\n",
       "   Snow        date      time  \n",
       "0     0  2020-01-01  00:00:00  \n",
       "1     0  2020-01-01  01:00:00  \n",
       "2     0  2020-01-01  02:00:00  \n",
       "3     0  2020-01-01  03:00:00  \n",
       "4     0  2020-01-01  04:00:00  \n",
       "\n",
       "[5 rows x 30 columns]"
      ]
     },
     "execution_count": 5,
     "metadata": {},
     "output_type": "execute_result"
    }
   ],
   "source": [
    "data_df.head()"
   ]
  },
  {
   "cell_type": "code",
   "execution_count": 6,
   "metadata": {
    "executionInfo": {
     "elapsed": 9,
     "status": "ok",
     "timestamp": 1705555291410,
     "user": {
      "displayName": "NIRAJAN BEKOJU",
      "userId": "11594644661999833156"
     },
     "user_tz": -345
    },
    "id": "u9Obure9A2HE"
   },
   "outputs": [],
   "source": [
    "data_df[\"time\"] = data_df[\"time\"].astype(str)"
   ]
  },
  {
   "cell_type": "code",
   "execution_count": 7,
   "metadata": {
    "executionInfo": {
     "elapsed": 367,
     "status": "ok",
     "timestamp": 1705555996135,
     "user": {
      "displayName": "NIRAJAN BEKOJU",
      "userId": "11594644661999833156"
     },
     "user_tz": -345
    },
    "id": "bEZpW-NMDyS2"
   },
   "outputs": [],
   "source": [
    "# transform a time series dataset into a supervised learning dataset\n",
    "def series_to_supervised(data, n_in=1, n_out=1, dropnan=True):\n",
    "\tn_vars = 1 if type(data) is list else data.shape[1]\n",
    "\tdf = pd.DataFrame(data)\n",
    "\tcols = list()\n",
    "\t# input sequence (t-n, ... t-1)\n",
    "\tfor i in range(n_in, 0, -1):\n",
    "\t\tcols.append(df.shift(i))\n",
    "\t# forecast sequence (t, t+1, ... t+n)\n",
    "\tfor i in range(0, n_out):\n",
    "\t\tcols.append(df.shift(-i))\n",
    "\t# put it all together\n",
    "\tagg = concat(cols, axis=1)\n",
    "\t# drop rows with NaN values\n",
    "\tif dropnan:\n",
    "\t\tagg.dropna(inplace=True)\n",
    "\treturn agg.values"
   ]
  },
  {
   "cell_type": "markdown",
   "metadata": {},
   "source": [
    "# Hour Demand Forecasting Models"
   ]
  },
  {
   "cell_type": "code",
   "execution_count": 8,
   "metadata": {},
   "outputs": [
    {
     "data": {
      "text/plain": [
       "['00:00:00',\n",
       " '01:00:00',\n",
       " '02:00:00',\n",
       " '03:00:00',\n",
       " '04:00:00',\n",
       " '05:00:00',\n",
       " '06:00:00',\n",
       " '07:00:00',\n",
       " '08:00:00',\n",
       " '09:00:00',\n",
       " '10:00:00',\n",
       " '11:00:00',\n",
       " '12:00:00',\n",
       " '13:00:00',\n",
       " '14:00:00',\n",
       " '15:00:00',\n",
       " '16:00:00',\n",
       " '17:00:00',\n",
       " '18:00:00',\n",
       " '19:00:00',\n",
       " '20:00:00',\n",
       " '21:00:00',\n",
       " '22:00:00',\n",
       " '23:00:00']"
      ]
     },
     "execution_count": 8,
     "metadata": {},
     "output_type": "execute_result"
    }
   ],
   "source": [
    "hourlist = []\n",
    "for i in range(0, 24):\n",
    "    if len(str(i)) == 1:\n",
    "        hourlist.append(f\"0{i}:00:00\")\n",
    "    else:\n",
    "        hourlist.append(f\"{i}:00:00\")\n",
    "hourlist"
   ]
  },
  {
   "cell_type": "code",
   "execution_count": 9,
   "metadata": {
    "colab": {
     "base_uri": "https://localhost:8080/",
     "height": 270
    },
    "executionInfo": {
     "elapsed": 6,
     "status": "ok",
     "timestamp": 1705555761279,
     "user": {
      "displayName": "NIRAJAN BEKOJU",
      "userId": "11594644661999833156"
     },
     "user_tz": -345
    },
    "id": "AHpPyedbAWw-",
    "outputId": "e9b25dcf-3dfc-4c0f-fc4e-b382fcaafad0"
   },
   "outputs": [
    {
     "name": "stdout",
     "output_type": "stream",
     "text": [
      "Saving model MODEL ARCHIVE/HOUR MODEL/rfr_00:00:00.pkl\n",
      "Saving model MODEL ARCHIVE/HOUR MODEL/rfr_01:00:00.pkl\n",
      "Saving model MODEL ARCHIVE/HOUR MODEL/rfr_02:00:00.pkl\n",
      "Saving model MODEL ARCHIVE/HOUR MODEL/rfr_03:00:00.pkl\n",
      "Saving model MODEL ARCHIVE/HOUR MODEL/rfr_04:00:00.pkl\n",
      "Saving model MODEL ARCHIVE/HOUR MODEL/rfr_05:00:00.pkl\n",
      "Saving model MODEL ARCHIVE/HOUR MODEL/rfr_06:00:00.pkl\n",
      "Saving model MODEL ARCHIVE/HOUR MODEL/rfr_07:00:00.pkl\n",
      "Saving model MODEL ARCHIVE/HOUR MODEL/rfr_08:00:00.pkl\n",
      "Saving model MODEL ARCHIVE/HOUR MODEL/rfr_09:00:00.pkl\n",
      "Saving model MODEL ARCHIVE/HOUR MODEL/rfr_10:00:00.pkl\n",
      "Saving model MODEL ARCHIVE/HOUR MODEL/rfr_11:00:00.pkl\n",
      "Saving model MODEL ARCHIVE/HOUR MODEL/rfr_12:00:00.pkl\n",
      "Saving model MODEL ARCHIVE/HOUR MODEL/rfr_13:00:00.pkl\n",
      "Saving model MODEL ARCHIVE/HOUR MODEL/rfr_14:00:00.pkl\n",
      "Saving model MODEL ARCHIVE/HOUR MODEL/rfr_15:00:00.pkl\n",
      "Saving model MODEL ARCHIVE/HOUR MODEL/rfr_16:00:00.pkl\n",
      "Saving model MODEL ARCHIVE/HOUR MODEL/rfr_17:00:00.pkl\n",
      "Saving model MODEL ARCHIVE/HOUR MODEL/rfr_18:00:00.pkl\n",
      "Saving model MODEL ARCHIVE/HOUR MODEL/rfr_19:00:00.pkl\n",
      "Saving model MODEL ARCHIVE/HOUR MODEL/rfr_20:00:00.pkl\n",
      "Saving model MODEL ARCHIVE/HOUR MODEL/rfr_21:00:00.pkl\n",
      "Saving model MODEL ARCHIVE/HOUR MODEL/rfr_22:00:00.pkl\n",
      "Saving model MODEL ARCHIVE/HOUR MODEL/rfr_23:00:00.pkl\n"
     ]
    }
   ],
   "source": [
    "def plot_truth_vs_pred(test_y, test_prediction, number_to_plot):\n",
    "    pred_df = pd.DataFrame({'ground_truth' : test_y[:number_to_plot], 'prediction' : test_prediction[:number_to_plot]})\n",
    "    sns.lineplot(data=pred_df)\n",
    "    plt.title(f\"Ground Truth vs Predicted Demand {hour}\")\n",
    "    \n",
    "for hour in hourlist:\n",
    "    hour_data_df = data_df[data_df[\"time\"] == hour]\n",
    "    hour_data_df.reset_index(inplace=True)\n",
    "    # hour_data_df.head()\n",
    "\n",
    "    series = pd.DataFrame(hour_data_df[\"Demand (MW)\"])\n",
    "    values = series.values\n",
    "    # Use first 10% of dataset as the test dataset\n",
    "    # Use 90 % of data as train dataset\n",
    "    # 10% of total data (27552) = 5510\n",
    "    first_20_percent_index = int(0.1 * len(values))\n",
    "    train_values = values[first_20_percent_index:, :]\n",
    "    test_values = values[:first_20_percent_index, :]\n",
    "    # print(train_values.shape, test_values.shape)\n",
    "    \n",
    "    \n",
    "    # 3 weeks of data is used as prior data => 24 * 7 * 3 = 504\n",
    "    number_of_weeks = 3\n",
    "    previous_data_dependency_hours = 7*number_of_weeks\n",
    "    # transform the time series data into supervised learning\n",
    "    train_supervised_data = series_to_supervised(train_values, n_in=previous_data_dependency_hours)\n",
    "    test_supervised_data = series_to_supervised(test_values, n_in=previous_data_dependency_hours)\n",
    "    # print(train_supervised_data.shape)\n",
    "    \n",
    "    train_X, train_y = train_supervised_data[:, :-1], train_supervised_data[:, -1]\n",
    "    # print(train_X.shape)\n",
    "    \n",
    "    # fit model\n",
    "    n_estimators = 1000\n",
    "    model = RandomForestRegressor(n_estimators=n_estimators, verbose=0, n_jobs=-1)\n",
    "    model.fit(train_X, train_y)\n",
    "    \n",
    "    model_path = f\"MODEL ARCHIVE/HOUR MODEL/rfr_{hour}.pkl\"\n",
    "    print(f\"Saving model {model_path}\")\n",
    "    # model_path = f\"/content/drive/MyDrive/Colab Notebooks/Hitachi/MODEL ARCHIVE/HOUR MODEL/rfr_{hour}.pkl\"\n",
    "    save_model = True\n",
    "    if save_model:\n",
    "        joblib.dump(model, model_path)"
   ]
  },
  {
   "cell_type": "markdown",
   "metadata": {},
   "source": [
    "## Validation of the model"
   ]
  },
  {
   "cell_type": "code",
   "execution_count": 10,
   "metadata": {
    "id": "BA_hvvr8EO8k"
   },
   "outputs": [
    {
     "name": "stdout",
     "output_type": "stream",
     "text": [
      "Loading model MODEL ARCHIVE/HOUR MODEL/rfr_09:00:00.pkl\n"
     ]
    },
    {
     "data": {
      "image/png": "[encoded data removed]",
      "text/plain": [
       "<Figure size 640x480 with 1 Axes>"
      ]
     },
     "metadata": {},
     "output_type": "display_data"
    }
   ],
   "source": [
    "hour = \"09:00:00\"\n",
    "model_path = f\"MODEL ARCHIVE/HOUR MODEL/rfr_{hour}.pkl\"\n",
    "print(f\"Loading model {model_path}\")\n",
    "loaded_model = joblib.load(model_path)\n",
    "\n",
    "hour_data_df = data_df[data_df[\"time\"] == hour]\n",
    "hour_data_df.reset_index(inplace=True)\n",
    "# hour_data_df.head()\n",
    "\n",
    "series = pd.DataFrame(hour_data_df[\"Demand (MW)\"])\n",
    "values = series.values\n",
    "# Use first 10% of dataset as the test dataset\n",
    "# Use 90 % of data as train dataset\n",
    "# 10% of total data (27552) = 5510\n",
    "first_20_percent_index = int(0.1 * len(values))\n",
    "test_values = values[:first_20_percent_index, :]\n",
    "# print(train_values.shape, test_values.shape)\n",
    "\n",
    "# 3 weeks of data is used as prior data => 24 * 7 * 3 = 504\n",
    "number_of_weeks = 3\n",
    "previous_data_dependency_hours = 7*number_of_weeks\n",
    "# transform the time series data into supervised learning\n",
    "test_supervised_data = series_to_supervised(test_values, n_in=previous_data_dependency_hours)\n",
    "\n",
    "test_X, test_y = test_supervised_data[:, :-1], test_supervised_data[:, -1]\n",
    "test_prediction = loaded_model.predict(test_X)\n",
    "\n",
    "plot_truth_vs_pred(test_y, test_prediction, number_to_plot=test_prediction.shape[0])"
   ]
  },
  {
   "cell_type": "code",
   "execution_count": 12,
   "metadata": {},
   "outputs": [
    {
     "name": "stdout",
     "output_type": "stream",
     "text": [
      "1219.9069135750713\n",
      "0.057688085360849475\n",
      "28.431931182795832\n"
     ]
    }
   ],
   "source": [
    "print(mean_squared_error(test_y, test_prediction))\n",
    "print(mean_absolute_percentage_error(test_y, test_prediction))\n",
    "print(mean_absolute_error(test_y, test_prediction))"
   ]
  },
  {
   "cell_type": "code",
   "execution_count": 13,
   "metadata": {},
   "outputs": [
    {
     "data": {
      "text/plain": [
       "(93, 21)"
      ]
     },
     "execution_count": 13,
     "metadata": {},
     "output_type": "execute_result"
    }
   ],
   "source": [
    "test_X.shape"
   ]
  },
  {
   "cell_type": "code",
   "execution_count": null,
   "metadata": {},
   "outputs": [],
   "source": []
  }
 ],
 "metadata": {
  "colab": {
   "provenance": []
  },
  "kernelspec": {
   "display_name": "hitachi",
   "language": "python",
   "name": "hitachi"
  },
  "language_info": {
   "codemirror_mode": {
    "name": "ipython",
    "version": 3
   },
   "file_extension": ".py",
   "mimetype": "text/x-python",
   "name": "python",
   "nbconvert_exporter": "python",
   "pygments_lexer": "ipython3",
   "version": "3.9.18"
  }
 },
 "nbformat": 4,
 "nbformat_minor": 4
}
