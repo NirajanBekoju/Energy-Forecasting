{
 "cells": [
  {
   "cell_type": "code",
   "execution_count": 1,
   "metadata": {
    "executionInfo": {
     "elapsed": 1409,
     "status": "ok",
     "timestamp": 1705506845016,
     "user": {
      "displayName": "NIRAJAN BEKOJU",
      "userId": "11594644661999833156"
     },
     "user_tz": -345
    },
    "id": "kyWfpdstZJZn"
   },
   "outputs": [],
   "source": [
    "# finalize model and make a prediction for monthly births with random forest\n",
    "import numpy as np\n",
    "import pandas as pd\n",
    "import matplotlib.pyplot as plt\n",
    "import seaborn as sns\n",
    "import plotly.express as px\n",
    "\n",
    "from numpy import asarray\n",
    "from numpy import array\n",
    "from pandas import concat\n",
    "from sklearn.ensemble import RandomForestRegressor\n",
    "import joblib\n",
    "\n",
    "from sklearn.metrics import mean_squared_error, mean_absolute_percentage_error, mean_absolute_error"
   ]
  },
  {
   "cell_type": "code",
   "execution_count": 2,
   "metadata": {
    "colab": {
     "base_uri": "https://localhost:8080/"
    },
    "executionInfo": {
     "elapsed": 9,
     "status": "ok",
     "timestamp": 1705505999333,
     "user": {
      "displayName": "NIRAJAN BEKOJU",
      "userId": "11594644661999833156"
     },
     "user_tz": -345
    },
    "id": "qxULR4dmZiB2",
    "outputId": "44c1efbd-732e-4e1d-8ff5-034255182f9f"
   },
   "outputs": [
    {
     "name": "stdout",
     "output_type": "stream",
     "text": [
      "<class 'pandas.core.frame.DataFrame'>\n",
      "RangeIndex: 27552 entries, 0 to 27551\n",
      "Data columns (total 28 columns):\n",
      " #   Column                          Non-Null Count  Dtype  \n",
      "---  ------                          --------------  -----  \n",
      " 0   Unnamed: 0                      27552 non-null  int64  \n",
      " 1   datetime                        27552 non-null  object \n",
      " 2   Demand (MW)                     27552 non-null  float64\n",
      " 3   Temperature                     27552 non-null  float64\n",
      " 4   dewpoint                        27552 non-null  float64\n",
      " 5   humidity                        27552 non-null  float64\n",
      " 6   precipitation                   27552 non-null  float64\n",
      " 7   precipprob                      27552 non-null  float64\n",
      " 8   snow                            27552 non-null  float64\n",
      " 9   snowdepth                       27552 non-null  float64\n",
      " 10  windgust                        27552 non-null  float64\n",
      " 11  windspeed                       27552 non-null  float64\n",
      " 12  sealevelpressure                27552 non-null  float64\n",
      " 13  cloudcover                      27552 non-null  float64\n",
      " 14  visibility                      27552 non-null  float64\n",
      " 15  solarradiation                  27552 non-null  float64\n",
      " 16  severerisk                      27552 non-null  float64\n",
      " 17  freezingrain                    27552 non-null  int64  \n",
      " 18  ice                             27552 non-null  int64  \n",
      " 19  rain                            27552 non-null  int64  \n",
      " 20  snow.1                          27552 non-null  int64  \n",
      " 21  Clear                           27552 non-null  int64  \n",
      " 22  Freezing Drizzle/Freezing Rain  27552 non-null  int64  \n",
      " 23  Ice                             27552 non-null  int64  \n",
      " 24  Overcast                        27552 non-null  int64  \n",
      " 25  Partially cloudy                27552 non-null  int64  \n",
      " 26  Rain                            27552 non-null  int64  \n",
      " 27  Snow                            27552 non-null  int64  \n",
      "dtypes: float64(15), int64(12), object(1)\n",
      "memory usage: 5.9+ MB\n"
     ]
    }
   ],
   "source": [
    "# data_path = \"/content/drive/MyDrive/Colab Notebooks/Hitachi/Data/final_data.csv\"\n",
    "data_path = \"final_data.csv\"\n",
    "data_df = pd.read_csv(data_path)\n",
    "data_df.info()"
   ]
  },
  {
   "cell_type": "code",
   "execution_count": 3,
   "metadata": {
    "colab": {
     "base_uri": "https://localhost:8080/",
     "height": 290
    },
    "executionInfo": {
     "elapsed": 684,
     "status": "ok",
     "timestamp": 1705506003101,
     "user": {
      "displayName": "NIRAJAN BEKOJU",
      "userId": "11594644661999833156"
     },
     "user_tz": -345
    },
    "id": "C9u0YlcdZ1Wg",
    "outputId": "1260aad2-afee-4c67-8cd3-bc7eeaf2083b"
   },
   "outputs": [
    {
     "data": {
      "text/html": [
       "<div>\n",
       "<style scoped>\n",
       "    .dataframe tbody tr th:only-of-type {\n",
       "        vertical-align: middle;\n",
       "    }\n",
       "\n",
       "    .dataframe tbody tr th {\n",
       "        vertical-align: top;\n",
       "    }\n",
       "\n",
       "    .dataframe thead th {\n",
       "        text-align: right;\n",
       "    }\n",
       "</style>\n",
       "<table border=\"1\" class=\"dataframe\">\n",
       "  <thead>\n",
       "    <tr style=\"text-align: right;\">\n",
       "      <th></th>\n",
       "      <th>Temperature</th>\n",
       "      <th>dewpoint</th>\n",
       "      <th>humidity</th>\n",
       "      <th>precipitation</th>\n",
       "      <th>precipprob</th>\n",
       "      <th>snow</th>\n",
       "      <th>snowdepth</th>\n",
       "      <th>windgust</th>\n",
       "      <th>windspeed</th>\n",
       "      <th>sealevelpressure</th>\n",
       "      <th>...</th>\n",
       "      <th>rain</th>\n",
       "      <th>snow.1</th>\n",
       "      <th>Clear</th>\n",
       "      <th>Freezing Drizzle/Freezing Rain</th>\n",
       "      <th>Ice</th>\n",
       "      <th>Overcast</th>\n",
       "      <th>Partially cloudy</th>\n",
       "      <th>Rain</th>\n",
       "      <th>Snow</th>\n",
       "      <th>Demand (MW)</th>\n",
       "    </tr>\n",
       "  </thead>\n",
       "  <tbody>\n",
       "    <tr>\n",
       "      <th>0</th>\n",
       "      <td>0.349596</td>\n",
       "      <td>0.383234</td>\n",
       "      <td>0.491779</td>\n",
       "      <td>0.0</td>\n",
       "      <td>0.0</td>\n",
       "      <td>0.0</td>\n",
       "      <td>0.0</td>\n",
       "      <td>0.23543</td>\n",
       "      <td>0.116613</td>\n",
       "      <td>0.387838</td>\n",
       "      <td>...</td>\n",
       "      <td>0.0</td>\n",
       "      <td>0.0</td>\n",
       "      <td>0.000000</td>\n",
       "      <td>0.0</td>\n",
       "      <td>0.0</td>\n",
       "      <td>0.693147</td>\n",
       "      <td>0.000000</td>\n",
       "      <td>0.0</td>\n",
       "      <td>0.0</td>\n",
       "      <td>445.8</td>\n",
       "    </tr>\n",
       "    <tr>\n",
       "      <th>1</th>\n",
       "      <td>0.349596</td>\n",
       "      <td>0.389739</td>\n",
       "      <td>0.510850</td>\n",
       "      <td>0.0</td>\n",
       "      <td>0.0</td>\n",
       "      <td>0.0</td>\n",
       "      <td>0.0</td>\n",
       "      <td>0.23543</td>\n",
       "      <td>0.116613</td>\n",
       "      <td>0.386469</td>\n",
       "      <td>...</td>\n",
       "      <td>0.0</td>\n",
       "      <td>0.0</td>\n",
       "      <td>0.000000</td>\n",
       "      <td>0.0</td>\n",
       "      <td>0.0</td>\n",
       "      <td>0.693147</td>\n",
       "      <td>0.000000</td>\n",
       "      <td>0.0</td>\n",
       "      <td>0.0</td>\n",
       "      <td>424.5</td>\n",
       "    </tr>\n",
       "    <tr>\n",
       "      <th>2</th>\n",
       "      <td>0.349596</td>\n",
       "      <td>0.396202</td>\n",
       "      <td>0.530131</td>\n",
       "      <td>0.0</td>\n",
       "      <td>0.0</td>\n",
       "      <td>0.0</td>\n",
       "      <td>0.0</td>\n",
       "      <td>0.23543</td>\n",
       "      <td>0.085695</td>\n",
       "      <td>0.387838</td>\n",
       "      <td>...</td>\n",
       "      <td>0.0</td>\n",
       "      <td>0.0</td>\n",
       "      <td>0.000000</td>\n",
       "      <td>0.0</td>\n",
       "      <td>0.0</td>\n",
       "      <td>0.693147</td>\n",
       "      <td>0.000000</td>\n",
       "      <td>0.0</td>\n",
       "      <td>0.0</td>\n",
       "      <td>423.5</td>\n",
       "    </tr>\n",
       "    <tr>\n",
       "      <th>3</th>\n",
       "      <td>0.343529</td>\n",
       "      <td>0.389739</td>\n",
       "      <td>0.529492</td>\n",
       "      <td>0.0</td>\n",
       "      <td>0.0</td>\n",
       "      <td>0.0</td>\n",
       "      <td>0.0</td>\n",
       "      <td>0.23543</td>\n",
       "      <td>0.116613</td>\n",
       "      <td>0.386469</td>\n",
       "      <td>...</td>\n",
       "      <td>0.0</td>\n",
       "      <td>0.0</td>\n",
       "      <td>0.000000</td>\n",
       "      <td>0.0</td>\n",
       "      <td>0.0</td>\n",
       "      <td>0.000000</td>\n",
       "      <td>0.693147</td>\n",
       "      <td>0.0</td>\n",
       "      <td>0.0</td>\n",
       "      <td>418.8</td>\n",
       "    </tr>\n",
       "    <tr>\n",
       "      <th>4</th>\n",
       "      <td>0.329914</td>\n",
       "      <td>0.383234</td>\n",
       "      <td>0.553636</td>\n",
       "      <td>0.0</td>\n",
       "      <td>0.0</td>\n",
       "      <td>0.0</td>\n",
       "      <td>0.0</td>\n",
       "      <td>0.23543</td>\n",
       "      <td>0.085695</td>\n",
       "      <td>0.385098</td>\n",
       "      <td>...</td>\n",
       "      <td>0.0</td>\n",
       "      <td>0.0</td>\n",
       "      <td>0.693147</td>\n",
       "      <td>0.0</td>\n",
       "      <td>0.0</td>\n",
       "      <td>0.000000</td>\n",
       "      <td>0.000000</td>\n",
       "      <td>0.0</td>\n",
       "      <td>0.0</td>\n",
       "      <td>414.8</td>\n",
       "    </tr>\n",
       "  </tbody>\n",
       "</table>\n",
       "<p>5 rows × 26 columns</p>\n",
       "</div>"
      ],
      "text/plain": [
       "   Temperature  dewpoint  humidity  precipitation  precipprob  snow  \\\n",
       "0     0.349596  0.383234  0.491779            0.0         0.0   0.0   \n",
       "1     0.349596  0.389739  0.510850            0.0         0.0   0.0   \n",
       "2     0.349596  0.396202  0.530131            0.0         0.0   0.0   \n",
       "3     0.343529  0.389739  0.529492            0.0         0.0   0.0   \n",
       "4     0.329914  0.383234  0.553636            0.0         0.0   0.0   \n",
       "\n",
       "   snowdepth  windgust  windspeed  sealevelpressure  ...  rain  snow.1  \\\n",
       "0        0.0   0.23543   0.116613          0.387838  ...   0.0     0.0   \n",
       "1        0.0   0.23543   0.116613          0.386469  ...   0.0     0.0   \n",
       "2        0.0   0.23543   0.085695          0.387838  ...   0.0     0.0   \n",
       "3        0.0   0.23543   0.116613          0.386469  ...   0.0     0.0   \n",
       "4        0.0   0.23543   0.085695          0.385098  ...   0.0     0.0   \n",
       "\n",
       "      Clear  Freezing Drizzle/Freezing Rain  Ice  Overcast  Partially cloudy  \\\n",
       "0  0.000000                             0.0  0.0  0.693147          0.000000   \n",
       "1  0.000000                             0.0  0.0  0.693147          0.000000   \n",
       "2  0.000000                             0.0  0.0  0.693147          0.000000   \n",
       "3  0.000000                             0.0  0.0  0.000000          0.693147   \n",
       "4  0.693147                             0.0  0.0  0.000000          0.000000   \n",
       "\n",
       "   Rain  Snow  Demand (MW)  \n",
       "0   0.0   0.0        445.8  \n",
       "1   0.0   0.0        424.5  \n",
       "2   0.0   0.0        423.5  \n",
       "3   0.0   0.0        418.8  \n",
       "4   0.0   0.0        414.8  \n",
       "\n",
       "[5 rows x 26 columns]"
      ]
     },
     "execution_count": 3,
     "metadata": {},
     "output_type": "execute_result"
    }
   ],
   "source": [
    "def min_max_normalize_dataframe(df, columns):\n",
    "    df_normalized = df.copy()\n",
    "    for column in columns:\n",
    "        if df[column].dtype in [int, float]:\n",
    "            min_val = df[column].min()\n",
    "            max_val = df[column].max()\n",
    "            df_normalized[column] = (df[column] - min_val) / (max_val - min_val)\n",
    "    return df_normalized\n",
    "\n",
    "data_df.drop(columns=[\"Unnamed: 0\", \"datetime\"], inplace=True)\n",
    "features_columns = list(data_df.columns)\n",
    "features_columns.remove('Demand (MW)')# removing the Demand (MW)\n",
    "\n",
    "normalized_df = min_max_normalize_dataframe(data_df, columns = features_columns)\n",
    "transformed_df = normalized_df[features_columns].apply(np.log1p)\n",
    "\n",
    "transformed_df[\"Demand (MW)\"] = data_df[\"Demand (MW)\"]\n",
    "transformed_df.head()"
   ]
  },
  {
   "cell_type": "markdown",
   "metadata": {
    "id": "Jv-f37mpcL7v"
   },
   "source": [
    "# Training of the Random Forest Model on WHOLE DATA"
   ]
  },
  {
   "cell_type": "code",
   "execution_count": 4,
   "metadata": {
    "id": "eiCnBk_6aUE7"
   },
   "outputs": [],
   "source": [
    "# split a multivariate sequence into samples\n",
    "def split_sequences(sequences, n_steps, number_of_predictions):\n",
    "  X, y = list(), list()\n",
    "  for i in range(len(sequences)):\n",
    "    # find the end of this pattern\n",
    "    end_ix = i + n_steps\n",
    "    # check if we are beyond the dataset\n",
    "    if end_ix > len(sequences):\n",
    "      break\n",
    "\t\t# gather input and output parts of the pattern\n",
    "    seq_x, seq_y = sequences[i:end_ix, :], sequences[end_ix: end_ix + number_of_predictions, -1]\n",
    "\n",
    "    if len(seq_y) != number_of_predictions:\n",
    "      continue\n",
    "\n",
    "    X.append(seq_x)\n",
    "    y.append(seq_y)\n",
    "  return array(X), array(y)"
   ]
  },
  {
   "cell_type": "code",
   "execution_count": 5,
   "metadata": {},
   "outputs": [
    {
     "data": {
      "text/plain": [
       "(27552, 26)"
      ]
     },
     "execution_count": 5,
     "metadata": {},
     "output_type": "execute_result"
    }
   ],
   "source": [
    "dataset = transformed_df.values\n",
    "dataset.shape"
   ]
  },
  {
   "cell_type": "code",
   "execution_count": 6,
   "metadata": {},
   "outputs": [
    {
     "name": "stdout",
     "output_type": "stream",
     "text": [
      "(22042, 26) (5510, 26)\n"
     ]
    }
   ],
   "source": [
    "# Use first 20% of dataset as the test dataset\n",
    "# Use 80 % of data as train dataset\n",
    "# 20% of total data (27552) = 5510\n",
    "train_dataset = dataset[5510:, :]\n",
    "test_dataset = dataset[:5510, :]\n",
    "print(train_dataset.shape, test_dataset.shape)"
   ]
  },
  {
   "cell_type": "code",
   "execution_count": 7,
   "metadata": {},
   "outputs": [
    {
     "name": "stdout",
     "output_type": "stream",
     "text": [
      "26\n"
     ]
    }
   ],
   "source": [
    "# 3 weeks of data is used as prior data => 24 * 7 * 3 = 504\n",
    "number_of_weeks_prior_data = 3\n",
    "number_of_weeks_to_predict = 1\n",
    "previous_data_dependency_hours = 24*7*number_of_weeks_prior_data\n",
    "\n",
    "# 24 * 7 * 1 = 168 datapoints will be predicted\n",
    "number_of_predictions = 24*7*number_of_weeks_to_predict\n",
    "# convert into input/output\n",
    "X_train, y_train = split_sequences(train_dataset, previous_data_dependency_hours, number_of_predictions)\n",
    "X_test, y_test = split_sequences(test_dataset, previous_data_dependency_hours, number_of_predictions)\n",
    "\n",
    "# the dataset knows the number of features, e.g. 2\n",
    "n_features = X_train.shape[2]\n",
    "print(n_features)"
   ]
  },
  {
   "cell_type": "code",
   "execution_count": 8,
   "metadata": {},
   "outputs": [
    {
     "name": "stdout",
     "output_type": "stream",
     "text": [
      "504 168\n"
     ]
    }
   ],
   "source": [
    "print(previous_data_dependency_hours, number_of_predictions)"
   ]
  },
  {
   "cell_type": "code",
   "execution_count": 9,
   "metadata": {},
   "outputs": [
    {
     "data": {
      "text/plain": [
       "((21371, 504, 26), (21371, 168), (4839, 504, 26), (4839, 168))"
      ]
     },
     "execution_count": 9,
     "metadata": {},
     "output_type": "execute_result"
    }
   ],
   "source": [
    "X_train.shape, y_train.shape, X_test.shape, y_test.shape"
   ]
  },
  {
   "cell_type": "code",
   "execution_count": 10,
   "metadata": {},
   "outputs": [
    {
     "data": {
      "text/plain": [
       "((21371, 13104), (4839, 13104))"
      ]
     },
     "execution_count": 10,
     "metadata": {},
     "output_type": "execute_result"
    }
   ],
   "source": [
    "X_train_reshaped = X_train.reshape(X_train.shape[0], X_train.shape[1] * X_train.shape[2])\n",
    "X_test_reshaped = X_test.reshape(X_test.shape[0], X_test.shape[1] * X_test.shape[2])\n",
    "X_train_reshaped.shape, X_test_reshaped.shape"
   ]
  },
  {
   "cell_type": "code",
   "execution_count": 11,
   "metadata": {},
   "outputs": [
    {
     "data": {
      "text/plain": [
       "'MODEL ARCHIVE/multi_variate_rfr_200_estimators.pkl'"
      ]
     },
     "execution_count": 11,
     "metadata": {},
     "output_type": "execute_result"
    }
   ],
   "source": [
    "n_estimators = 200\n",
    "f\"MODEL ARCHIVE/multi_variate_rfr_{n_estimators}_estimators.pkl\""
   ]
  },
  {
   "cell_type": "code",
   "execution_count": 12,
   "metadata": {},
   "outputs": [
    {
     "name": "stderr",
     "output_type": "stream",
     "text": [
      "[Parallel(n_jobs=-1)]: Using backend ThreadingBackend with 16 concurrent workers.\n",
      "[Parallel(n_jobs=-1)]: Done  18 tasks      | elapsed: 12.7min\n",
      "[Parallel(n_jobs=-1)]: Done 168 tasks      | elapsed: 70.8min\n",
      "[Parallel(n_jobs=-1)]: Done 200 out of 200 | elapsed: 81.3min finished\n"
     ]
    },
    {
     "data": {
      "text/html": [
       "<style>#sk-container-id-1 {color: black;background-color: white;}#sk-container-id-1 pre{padding: 0;}#sk-container-id-1 div.sk-toggleable {background-color: white;}#sk-container-id-1 label.sk-toggleable__label {cursor: pointer;display: block;width: 100%;margin-bottom: 0;padding: 0.3em;box-sizing: border-box;text-align: center;}#sk-container-id-1 label.sk-toggleable__label-arrow:before {content: \"▸\";float: left;margin-right: 0.25em;color: #696969;}#sk-container-id-1 label.sk-toggleable__label-arrow:hover:before {color: black;}#sk-container-id-1 div.sk-estimator:hover label.sk-toggleable__label-arrow:before {color: black;}#sk-container-id-1 div.sk-toggleable__content {max-height: 0;max-width: 0;overflow: hidden;text-align: left;background-color: #f0f8ff;}#sk-container-id-1 div.sk-toggleable__content pre {margin: 0.2em;color: black;border-radius: 0.25em;background-color: #f0f8ff;}#sk-container-id-1 input.sk-toggleable__control:checked~div.sk-toggleable__content {max-height: 200px;max-width: 100%;overflow: auto;}#sk-container-id-1 input.sk-toggleable__control:checked~label.sk-toggleable__label-arrow:before {content: \"▾\";}#sk-container-id-1 div.sk-estimator input.sk-toggleable__control:checked~label.sk-toggleable__label {background-color: #d4ebff;}#sk-container-id-1 div.sk-label input.sk-toggleable__control:checked~label.sk-toggleable__label {background-color: #d4ebff;}#sk-container-id-1 input.sk-hidden--visually {border: 0;clip: rect(1px 1px 1px 1px);clip: rect(1px, 1px, 1px, 1px);height: 1px;margin: -1px;overflow: hidden;padding: 0;position: absolute;width: 1px;}#sk-container-id-1 div.sk-estimator {font-family: monospace;background-color: #f0f8ff;border: 1px dotted black;border-radius: 0.25em;box-sizing: border-box;margin-bottom: 0.5em;}#sk-container-id-1 div.sk-estimator:hover {background-color: #d4ebff;}#sk-container-id-1 div.sk-parallel-item::after {content: \"\";width: 100%;border-bottom: 1px solid gray;flex-grow: 1;}#sk-container-id-1 div.sk-label:hover label.sk-toggleable__label {background-color: #d4ebff;}#sk-container-id-1 div.sk-serial::before {content: \"\";position: absolute;border-left: 1px solid gray;box-sizing: border-box;top: 0;bottom: 0;left: 50%;z-index: 0;}#sk-container-id-1 div.sk-serial {display: flex;flex-direction: column;align-items: center;background-color: white;padding-right: 0.2em;padding-left: 0.2em;position: relative;}#sk-container-id-1 div.sk-item {position: relative;z-index: 1;}#sk-container-id-1 div.sk-parallel {display: flex;align-items: stretch;justify-content: center;background-color: white;position: relative;}#sk-container-id-1 div.sk-item::before, #sk-container-id-1 div.sk-parallel-item::before {content: \"\";position: absolute;border-left: 1px solid gray;box-sizing: border-box;top: 0;bottom: 0;left: 50%;z-index: -1;}#sk-container-id-1 div.sk-parallel-item {display: flex;flex-direction: column;z-index: 1;position: relative;background-color: white;}#sk-container-id-1 div.sk-parallel-item:first-child::after {align-self: flex-end;width: 50%;}#sk-container-id-1 div.sk-parallel-item:last-child::after {align-self: flex-start;width: 50%;}#sk-container-id-1 div.sk-parallel-item:only-child::after {width: 0;}#sk-container-id-1 div.sk-dashed-wrapped {border: 1px dashed gray;margin: 0 0.4em 0.5em 0.4em;box-sizing: border-box;padding-bottom: 0.4em;background-color: white;}#sk-container-id-1 div.sk-label label {font-family: monospace;font-weight: bold;display: inline-block;line-height: 1.2em;}#sk-container-id-1 div.sk-label-container {text-align: center;}#sk-container-id-1 div.sk-container {/* jupyter's `normalize.less` sets `[hidden] { display: none; }` but bootstrap.min.css set `[hidden] { display: none !important; }` so we also need the `!important` here to be able to override the default hidden behavior on the sphinx rendered scikit-learn.org. See: https://github.com/scikit-learn/scikit-learn/issues/21755 */display: inline-block !important;position: relative;}#sk-container-id-1 div.sk-text-repr-fallback {display: none;}</style><div id=\"sk-container-id-1\" class=\"sk-top-container\"><div class=\"sk-text-repr-fallback\"><pre>RandomForestRegressor(n_estimators=200, n_jobs=-1, verbose=1)</pre><b>In a Jupyter environment, please rerun this cell to show the HTML representation or trust the notebook. <br />On GitHub, the HTML representation is unable to render, please try loading this page with nbviewer.org.</b></div><div class=\"sk-container\" hidden><div class=\"sk-item\"><div class=\"sk-estimator sk-toggleable\"><input class=\"sk-toggleable__control sk-hidden--visually\" id=\"sk-estimator-id-1\" type=\"checkbox\" checked><label for=\"sk-estimator-id-1\" class=\"sk-toggleable__label sk-toggleable__label-arrow\">RandomForestRegressor</label><div class=\"sk-toggleable__content\"><pre>RandomForestRegressor(n_estimators=200, n_jobs=-1, verbose=1)</pre></div></div></div></div></div>"
      ],
      "text/plain": [
       "RandomForestRegressor(n_estimators=200, n_jobs=-1, verbose=1)"
      ]
     },
     "execution_count": 12,
     "metadata": {},
     "output_type": "execute_result"
    }
   ],
   "source": [
    "model = RandomForestRegressor(n_estimators=n_estimators, verbose=1, n_jobs=-1)\n",
    "model.fit(X_train_reshaped, y_train)"
   ]
  },
  {
   "cell_type": "code",
   "execution_count": 13,
   "metadata": {},
   "outputs": [],
   "source": [
    "model_save = False\n",
    "\n",
    "# model_path = \"/content/drive/MyDrive/Colab Notebooks/Hitachi/MODEL ARCHIVE/random_forest_model_v2.pkl\" \n",
    "model_path = f\"MODEL ARCHIVE/multi_variate_rfr_{n_estimators}_estimators.pkl\"\n",
    "if model_save == True:\n",
    "    joblib.dump(model, model_path)"
   ]
  },
  {
   "cell_type": "markdown",
   "metadata": {},
   "source": [
    "## Testing the Model"
   ]
  },
  {
   "cell_type": "code",
   "execution_count": 12,
   "metadata": {},
   "outputs": [],
   "source": [
    "model_path = f\"MODEL ARCHIVE/multi_variate_rfr_{n_estimators}_estimators.pkl\"\n",
    "loaded_model = joblib.load(model_path)"
   ]
  },
  {
   "cell_type": "code",
   "execution_count": 13,
   "metadata": {},
   "outputs": [
    {
     "name": "stderr",
     "output_type": "stream",
     "text": [
      "[Parallel(n_jobs=16)]: Using backend ThreadingBackend with 16 concurrent workers.\n",
      "[Parallel(n_jobs=16)]: Done  18 tasks      | elapsed:    0.1s\n",
      "[Parallel(n_jobs=16)]: Done 168 tasks      | elapsed:    0.3s\n",
      "[Parallel(n_jobs=16)]: Done 200 out of 200 | elapsed:    0.3s finished\n"
     ]
    },
    {
     "data": {
      "text/plain": [
       "((4839, 168), (4839, 168))"
      ]
     },
     "execution_count": 13,
     "metadata": {},
     "output_type": "execute_result"
    }
   ],
   "source": [
    "test_prediction = loaded_model.predict(X_test_reshaped)\n",
    "y_test.shape, test_prediction.shape"
   ]
  },
  {
   "cell_type": "code",
   "execution_count": 14,
   "metadata": {},
   "outputs": [
    {
     "data": {
      "text/plain": [
       "4287.828771922944"
      ]
     },
     "execution_count": 14,
     "metadata": {},
     "output_type": "execute_result"
    }
   ],
   "source": [
    "mean_squared_error(y_test, test_prediction)"
   ]
  },
  {
   "cell_type": "code",
   "execution_count": 15,
   "metadata": {},
   "outputs": [],
   "source": [
    "def plot_truth_vs_pred(ground_truth, predicted_values, number_to_plot):\n",
    "    mse = float(mean_squared_error(ground_truth, predicted_values))\n",
    "    mape = float(mean_absolute_percentage_error(ground_truth, predicted_values))\n",
    "    mae = float(mean_absolute_error(ground_truth, predicted_values))\n",
    "    pred_df = pd.DataFrame({'ground_truth' : ground_truth[:number_to_plot], 'prediction' : predicted_values[:number_to_plot]})\n",
    "    sns.lineplot(data=pred_df)\n",
    "    plt.title(f\"Ground Truth vs Predicted Demand {number_to_plot} datapoint\")\n",
    "    return mse, mape, mae"
   ]
  },
  {
   "cell_type": "code",
   "execution_count": 16,
   "metadata": {},
   "outputs": [
    {
     "data": {
      "text/plain": [
       "((168,), (168,))"
      ]
     },
     "execution_count": 16,
     "metadata": {},
     "output_type": "execute_result"
    }
   ],
   "source": [
    "y_test[0].shape, test_prediction[0].shape"
   ]
  },
  {
   "cell_type": "code",
   "execution_count": 17,
   "metadata": {},
   "outputs": [
    {
     "name": "stdout",
     "output_type": "stream",
     "text": [
      "1621.530915934525 0.06597342711878049 35.993077380952414\n"
     ]
    },
    {
     "data": {
      "image/png": "[encoded data removed]",
      "text/plain": [
       "<Figure size 640x480 with 1 Axes>"
      ]
     },
     "metadata": {},
     "output_type": "display_data"
    }
   ],
   "source": [
    "index = 100\n",
    "ground_truth = y_test[index]\n",
    "predicted_values = test_prediction[index]\n",
    "mse, mape, mae = plot_truth_vs_pred(ground_truth, predicted_values, number_to_plot=168)\n",
    "print(mse, mape, mae)"
   ]
  },
  {
   "cell_type": "markdown",
   "metadata": {},
   "source": [
    "# Conclusion\n",
    "### For 30 estimators graph,\n",
    "* Ground truth vs predicted Demand in the index = 100\n",
    "* mse, mape and mae = 1405.8141480158733 0.05897956063067388 31.288253968253965\n",
    "\n",
    "### For 200 estimators graph\n",
    "* Ground truth vs predicted Demand in the index = 100\n",
    "* mse, mape and mae = 1621.530915934525 0.06597342711878049 35.993077380952414"
   ]
  },
  {
   "cell_type": "code",
   "execution_count": null,
   "metadata": {},
   "outputs": [],
   "source": []
  }
 ],
 "metadata": {
  "colab": {
   "authorship_tag": "ABX9TyMhI3o/2H6IRaG/y7zuYlkE",
   "mount_file_id": "11iXD6TI5k6Ec2AUyUt9fM1xU5SnwY0UM",
   "provenance": []
  },
  "kernelspec": {
   "display_name": "hitachi",
   "language": "python",
   "name": "hitachi"
  },
  "language_info": {
   "codemirror_mode": {
    "name": "ipython",
    "version": 3
   },
   "file_extension": ".py",
   "mimetype": "text/x-python",
   "name": "python",
   "nbconvert_exporter": "python",
   "pygments_lexer": "ipython3",
   "version": "3.9.18"
  }
 },
 "nbformat": 4,
 "nbformat_minor": 4
}
